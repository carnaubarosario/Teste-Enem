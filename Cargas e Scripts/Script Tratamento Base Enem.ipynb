{
 "cells": [
  {
   "cell_type": "code",
   "execution_count": 2,
   "metadata": {},
   "outputs": [],
   "source": [
    "import pandas as pd\n",
    "import os\n",
    "import gc"
   ]
  },
  {
   "cell_type": "code",
   "execution_count": 2,
   "metadata": {},
   "outputs": [
    {
     "data": {
      "text/plain": [
       "0"
      ]
     },
     "execution_count": 2,
     "metadata": {},
     "output_type": "execute_result"
    }
   ],
   "source": [
    "# Forçar coleta de lixo\n",
    "gc.collect()"
   ]
  },
  {
   "cell_type": "code",
   "execution_count": 3,
   "metadata": {},
   "outputs": [
    {
     "data": {
      "text/html": [
       "<div>\n",
       "<style scoped>\n",
       "    .dataframe tbody tr th:only-of-type {\n",
       "        vertical-align: middle;\n",
       "    }\n",
       "\n",
       "    .dataframe tbody tr th {\n",
       "        vertical-align: top;\n",
       "    }\n",
       "\n",
       "    .dataframe thead th {\n",
       "        text-align: right;\n",
       "    }\n",
       "</style>\n",
       "<table border=\"1\" class=\"dataframe\">\n",
       "  <thead>\n",
       "    <tr style=\"text-align: right;\">\n",
       "      <th></th>\n",
       "      <th>NU_INSCRICAO</th>\n",
       "      <th>NU_ANO</th>\n",
       "      <th>TP_FAIXA_ETARIA</th>\n",
       "      <th>TP_SEXO</th>\n",
       "      <th>TP_ESTADO_CIVIL</th>\n",
       "      <th>TP_COR_RACA</th>\n",
       "      <th>TP_NACIONALIDADE</th>\n",
       "      <th>TP_ST_CONCLUSAO</th>\n",
       "      <th>TP_ANO_CONCLUIU</th>\n",
       "      <th>TP_ESCOLA</th>\n",
       "      <th>...</th>\n",
       "      <th>Q016</th>\n",
       "      <th>Q017</th>\n",
       "      <th>Q018</th>\n",
       "      <th>Q019</th>\n",
       "      <th>Q020</th>\n",
       "      <th>Q021</th>\n",
       "      <th>Q022</th>\n",
       "      <th>Q023</th>\n",
       "      <th>Q024</th>\n",
       "      <th>Q025</th>\n",
       "    </tr>\n",
       "  </thead>\n",
       "  <tbody>\n",
       "    <tr>\n",
       "      <th>0</th>\n",
       "      <td>200006271946</td>\n",
       "      <td>2020</td>\n",
       "      <td>11</td>\n",
       "      <td>F</td>\n",
       "      <td>1</td>\n",
       "      <td>2</td>\n",
       "      <td>1</td>\n",
       "      <td>1</td>\n",
       "      <td>11</td>\n",
       "      <td>1</td>\n",
       "      <td>...</td>\n",
       "      <td>NaN</td>\n",
       "      <td>NaN</td>\n",
       "      <td>NaN</td>\n",
       "      <td>NaN</td>\n",
       "      <td>NaN</td>\n",
       "      <td>NaN</td>\n",
       "      <td>NaN</td>\n",
       "      <td>NaN</td>\n",
       "      <td>NaN</td>\n",
       "      <td>NaN</td>\n",
       "    </tr>\n",
       "    <tr>\n",
       "      <th>1</th>\n",
       "      <td>200001195856</td>\n",
       "      <td>2020</td>\n",
       "      <td>11</td>\n",
       "      <td>M</td>\n",
       "      <td>2</td>\n",
       "      <td>3</td>\n",
       "      <td>1</td>\n",
       "      <td>1</td>\n",
       "      <td>11</td>\n",
       "      <td>1</td>\n",
       "      <td>...</td>\n",
       "      <td>NaN</td>\n",
       "      <td>NaN</td>\n",
       "      <td>NaN</td>\n",
       "      <td>NaN</td>\n",
       "      <td>NaN</td>\n",
       "      <td>NaN</td>\n",
       "      <td>NaN</td>\n",
       "      <td>NaN</td>\n",
       "      <td>NaN</td>\n",
       "      <td>NaN</td>\n",
       "    </tr>\n",
       "    <tr>\n",
       "      <th>2</th>\n",
       "      <td>200001943954</td>\n",
       "      <td>2020</td>\n",
       "      <td>4</td>\n",
       "      <td>F</td>\n",
       "      <td>2</td>\n",
       "      <td>3</td>\n",
       "      <td>2</td>\n",
       "      <td>2</td>\n",
       "      <td>0</td>\n",
       "      <td>2</td>\n",
       "      <td>...</td>\n",
       "      <td>B</td>\n",
       "      <td>A</td>\n",
       "      <td>A</td>\n",
       "      <td>B</td>\n",
       "      <td>A</td>\n",
       "      <td>A</td>\n",
       "      <td>A</td>\n",
       "      <td>A</td>\n",
       "      <td>A</td>\n",
       "      <td>A</td>\n",
       "    </tr>\n",
       "    <tr>\n",
       "      <th>3</th>\n",
       "      <td>200001908998</td>\n",
       "      <td>2020</td>\n",
       "      <td>2</td>\n",
       "      <td>M</td>\n",
       "      <td>1</td>\n",
       "      <td>3</td>\n",
       "      <td>1</td>\n",
       "      <td>2</td>\n",
       "      <td>0</td>\n",
       "      <td>2</td>\n",
       "      <td>...</td>\n",
       "      <td>NaN</td>\n",
       "      <td>NaN</td>\n",
       "      <td>NaN</td>\n",
       "      <td>NaN</td>\n",
       "      <td>NaN</td>\n",
       "      <td>NaN</td>\n",
       "      <td>NaN</td>\n",
       "      <td>NaN</td>\n",
       "      <td>NaN</td>\n",
       "      <td>NaN</td>\n",
       "    </tr>\n",
       "    <tr>\n",
       "      <th>4</th>\n",
       "      <td>200001634757</td>\n",
       "      <td>2020</td>\n",
       "      <td>4</td>\n",
       "      <td>F</td>\n",
       "      <td>1</td>\n",
       "      <td>3</td>\n",
       "      <td>2</td>\n",
       "      <td>1</td>\n",
       "      <td>1</td>\n",
       "      <td>1</td>\n",
       "      <td>...</td>\n",
       "      <td>A</td>\n",
       "      <td>A</td>\n",
       "      <td>A</td>\n",
       "      <td>B</td>\n",
       "      <td>A</td>\n",
       "      <td>B</td>\n",
       "      <td>B</td>\n",
       "      <td>A</td>\n",
       "      <td>A</td>\n",
       "      <td>B</td>\n",
       "    </tr>\n",
       "  </tbody>\n",
       "</table>\n",
       "<p>5 rows × 76 columns</p>\n",
       "</div>"
      ],
      "text/plain": [
       "   NU_INSCRICAO  NU_ANO  TP_FAIXA_ETARIA TP_SEXO  TP_ESTADO_CIVIL  \\\n",
       "0  200006271946    2020               11       F                1   \n",
       "1  200001195856    2020               11       M                2   \n",
       "2  200001943954    2020                4       F                2   \n",
       "3  200001908998    2020                2       M                1   \n",
       "4  200001634757    2020                4       F                1   \n",
       "\n",
       "   TP_COR_RACA  TP_NACIONALIDADE  TP_ST_CONCLUSAO  TP_ANO_CONCLUIU  TP_ESCOLA  \\\n",
       "0            2                 1                1               11          1   \n",
       "1            3                 1                1               11          1   \n",
       "2            3                 2                2                0          2   \n",
       "3            3                 1                2                0          2   \n",
       "4            3                 2                1                1          1   \n",
       "\n",
       "   ...  Q016  Q017  Q018 Q019  Q020 Q021  Q022  Q023  Q024  Q025  \n",
       "0  ...   NaN   NaN   NaN  NaN   NaN  NaN   NaN   NaN   NaN   NaN  \n",
       "1  ...   NaN   NaN   NaN  NaN   NaN  NaN   NaN   NaN   NaN   NaN  \n",
       "2  ...     B     A     A    B     A    A     A     A     A     A  \n",
       "3  ...   NaN   NaN   NaN  NaN   NaN  NaN   NaN   NaN   NaN   NaN  \n",
       "4  ...     A     A     A    B     A    B     B     A     A     B  \n",
       "\n",
       "[5 rows x 76 columns]"
      ]
     },
     "execution_count": 3,
     "metadata": {},
     "output_type": "execute_result"
    }
   ],
   "source": [
    "#leitura da base de notas do enem\n",
    "df_enem = pd.read_csv(r\"C:\\Users\\peixe\\Downloads\\microdados_enem_2020\\DADOS\\MICRODADOS_ENEM_2020.csv\", encoding='latin1', delimiter=';')\n",
    "df_enem.head()"
   ]
  },
  {
   "cell_type": "code",
   "execution_count": null,
   "metadata": {},
   "outputs": [],
   "source": [
    "\n"
   ]
  },
  {
   "cell_type": "code",
   "execution_count": 4,
   "metadata": {},
   "outputs": [],
   "source": [
    "#filtro de valores em branco\n",
    "df_enem['TP_ENSINO'] = df_enem['TP_ENSINO'].fillna(0).astype(int)\n",
    "df_enem['CO_MUNICIPIO_ESC'] = df_enem['CO_MUNICIPIO_ESC'].fillna(0).astype(int)\n",
    "df_enem['NO_MUNICIPIO_ESC'] = df_enem['NO_MUNICIPIO_ESC'].fillna('Não Informado').astype(str)\n",
    "df_enem['CO_UF_ESC'] = df_enem['CO_UF_ESC'].fillna(0).astype(int)\n",
    "df_enem['SG_UF_ESC'] = df_enem['SG_UF_ESC'].fillna('Não Informado').astype(str)\n",
    "df_enem['TP_DEPENDENCIA_ADM_ESC'] = df_enem['TP_DEPENDENCIA_ADM_ESC'].fillna(0).astype(int)\n",
    "df_enem['TP_LOCALIZACAO_ESC'] = df_enem['TP_LOCALIZACAO_ESC'].fillna(0).astype(int)\n",
    "df_enem['TP_SIT_FUNC_ESC'] = df_enem['TP_SIT_FUNC_ESC'].fillna(0).astype(int)\n",
    "df_enem['CO_PROVA_CN'] = df_enem['CO_PROVA_CN'].fillna(0).astype(int)\n",
    "df_enem['CO_PROVA_CH'] = df_enem['CO_PROVA_CH'].fillna(0).astype(int)\n",
    "df_enem['CO_PROVA_LC'] = df_enem['CO_PROVA_LC'].fillna(0).astype(int)\n",
    "df_enem['CO_PROVA_MT'] = df_enem['CO_PROVA_MT'].fillna(0).astype(int)\n",
    "df_enem['NU_NOTA_CN'] = df_enem['NU_NOTA_CN'].fillna(0).astype(int)\n",
    "df_enem['NU_NOTA_CH'] = df_enem['NU_NOTA_CH'].fillna(0).astype(int)\n",
    "df_enem['NU_NOTA_LC'] = df_enem['NU_NOTA_LC'].fillna(0).astype(int)\n",
    "df_enem['NU_NOTA_MT'] = df_enem['NU_NOTA_MT'].fillna(0).astype(int)\n",
    "df_enem['TX_GABARITO_CN'] = df_enem['TX_GABARITO_CN'].fillna('S/I').astype(str)\n",
    "df_enem['TX_GABARITO_CH'] = df_enem['TX_GABARITO_CH'].fillna('S/I').astype(str)\n",
    "df_enem['TX_GABARITO_LC'] = df_enem['TX_GABARITO_LC'].fillna('S/I').astype(str)\n",
    "df_enem['TX_GABARITO_MT'] = df_enem['TX_GABARITO_MT'].fillna('S/I').astype(str)\n",
    "df_enem['NU_NOTA_COMP1'] = df_enem['NU_NOTA_COMP1'].fillna(0).astype(int)\n",
    "df_enem['NU_NOTA_COMP2'] = df_enem['NU_NOTA_COMP2'].fillna(0).astype(int)\n",
    "df_enem['NU_NOTA_COMP3'] = df_enem['NU_NOTA_COMP3'].fillna(0).astype(int)\n",
    "df_enem['NU_NOTA_COMP4'] = df_enem['NU_NOTA_COMP4'].fillna(0).astype(int)\n",
    "df_enem['NU_NOTA_COMP5'] = df_enem['NU_NOTA_COMP5'].fillna(0).astype(int)\n",
    "df_enem['NU_NOTA_REDACAO'] = df_enem['NU_NOTA_REDACAO'].fillna(0).astype(int)\n",
    "df_enem['Q001'] = df_enem['Q001'].fillna('SEM RESPOSTA').astype(str)\n",
    "df_enem['Q002'] = df_enem['Q002'].fillna('SEM RESPOSTA').astype(str)\n",
    "df_enem['Q003'] = df_enem['Q003'].fillna('SEM RESPOSTA').astype(str)\n",
    "df_enem['Q004'] = df_enem['Q004'].fillna('SEM RESPOSTA').astype(str)\n",
    "df_enem['Q005'] = df_enem['Q005'].fillna('SEM RESPOSTA').astype(str)\n",
    "df_enem['Q006'] = df_enem['Q006'].fillna('SEM RESPOSTA').astype(str)\n",
    "df_enem['Q007'] = df_enem['Q007'].fillna('SEM RESPOSTA').astype(str)\n",
    "df_enem['Q008'] = df_enem['Q008'].fillna('SEM RESPOSTA').astype(str)\n",
    "df_enem['Q009'] = df_enem['Q009'].fillna('SEM RESPOSTA').astype(str)\n",
    "df_enem['Q010'] = df_enem['Q010'].fillna('SEM RESPOSTA').astype(str)\n",
    "df_enem['Q011'] = df_enem['Q011'].fillna('SEM RESPOSTA').astype(str)\n",
    "df_enem['Q012'] = df_enem['Q012'].fillna('SEM RESPOSTA').astype(str)\n",
    "df_enem['Q013'] = df_enem['Q013'].fillna('SEM RESPOSTA').astype(str)\n",
    "df_enem['Q014'] = df_enem['Q014'].fillna('SEM RESPOSTA').astype(str)\n",
    "df_enem['Q015'] = df_enem['Q015'].fillna('SEM RESPOSTA').astype(str)\n",
    "df_enem['Q016'] = df_enem['Q016'].fillna('SEM RESPOSTA').astype(str)\n",
    "df_enem['Q017'] = df_enem['Q017'].fillna('SEM RESPOSTA').astype(str)\n",
    "df_enem['Q018'] = df_enem['Q018'].fillna('SEM RESPOSTA').astype(str)\n",
    "df_enem['Q019'] = df_enem['Q019'].fillna('SEM RESPOSTA').astype(str)\n",
    "df_enem['Q020'] = df_enem['Q020'].fillna('SEM RESPOSTA').astype(str)\n",
    "df_enem['Q021'] = df_enem['Q021'].fillna('SEM RESPOSTA').astype(str)\n",
    "df_enem['Q022'] = df_enem['Q022'].fillna('SEM RESPOSTA').astype(str)\n",
    "df_enem['Q023'] = df_enem['Q023'].fillna('SEM RESPOSTA').astype(str)\n",
    "df_enem['Q024'] = df_enem['Q024'].fillna('SEM RESPOSTA').astype(str)\n",
    "df_enem['Q025'] = df_enem['Q025'].fillna('SEM RESPOSTA').astype(str)\n"
   ]
  },
  {
   "cell_type": "code",
   "execution_count": 5,
   "metadata": {},
   "outputs": [],
   "source": [
    "df_enem['TP_PRESENCA_CN'] = df_enem['TP_PRESENCA_CN'].replace(0, 'Ausente').astype(str)\n",
    "df_enem['TP_PRESENCA_CN'] = df_enem['TP_PRESENCA_CN'].replace('1', 'Presente').astype(str)\n",
    "df_enem['TP_PRESENCA_CN'] = df_enem['TP_PRESENCA_CN'].replace('2', 'Eliminado').astype(str)\n",
    "df_enem['TP_PRESENCA_CH'] = df_enem['TP_PRESENCA_CH'].replace(0, 'Ausente').astype(str)\n",
    "df_enem['TP_PRESENCA_CH'] = df_enem['TP_PRESENCA_CH'].replace('1', 'Presente').astype(str)\n",
    "df_enem['TP_PRESENCA_CH'] = df_enem['TP_PRESENCA_CH'].replace('2', 'Eliminado').astype(str)\n",
    "df_enem['TP_PRESENCA_LC'] = df_enem['TP_PRESENCA_LC'].replace(0, 'Ausente').astype(str)\n",
    "df_enem['TP_PRESENCA_LC'] = df_enem['TP_PRESENCA_LC'].replace('1', 'Presente').astype(str)\n",
    "df_enem['TP_PRESENCA_LC'] = df_enem['TP_PRESENCA_LC'].replace('2', 'Eliminado').astype(str)\n",
    "df_enem['TP_PRESENCA_MT'] = df_enem['TP_PRESENCA_MT'].replace(0, 'Ausente').astype(str)\n",
    "df_enem['TP_PRESENCA_MT'] = df_enem['TP_PRESENCA_MT'].replace('1', 'Presente').astype(str)\n",
    "df_enem['TP_PRESENCA_MT'] = df_enem['TP_PRESENCA_MT'].replace('2', 'Eliminado').astype(str)"
   ]
  },
  {
   "cell_type": "code",
   "execution_count": 6,
   "metadata": {},
   "outputs": [],
   "source": [
    "df_enem['TP_COR_RACA'] = df_enem['TP_COR_RACA'].replace(0, 'Não Informado').astype(str)\n",
    "df_enem['TP_COR_RACA'] = df_enem['TP_COR_RACA'].replace('1', 'Branca').astype(str)\n",
    "df_enem['TP_COR_RACA'] = df_enem['TP_COR_RACA'].replace('2', 'Preta').astype(str)\n",
    "df_enem['TP_COR_RACA'] = df_enem['TP_COR_RACA'].replace('3', 'Parda').astype(str)\n",
    "df_enem['TP_COR_RACA'] = df_enem['TP_COR_RACA'].replace('4', 'Amarela').astype(str)\n",
    "df_enem['TP_COR_RACA'] = df_enem['TP_COR_RACA'].replace('5', 'Indígena').astype(str)"
   ]
  },
  {
   "cell_type": "code",
   "execution_count": 7,
   "metadata": {},
   "outputs": [],
   "source": [
    "df_enem['TP_ESTADO_CIVIL'] = df_enem['TP_ESTADO_CIVIL'].replace(0, 'Não Informado').astype(str)\n",
    "df_enem['TP_ESTADO_CIVIL'] = df_enem['TP_ESTADO_CIVIL'].replace('1', 'Solteiro (a)').astype(str)\n",
    "df_enem['TP_ESTADO_CIVIL'] = df_enem['TP_ESTADO_CIVIL'].replace('2', 'Casado(a)/Mora com companheiro (a)').astype(str)\n",
    "df_enem['TP_ESTADO_CIVIL'] = df_enem['TP_ESTADO_CIVIL'].replace('3', 'Divorciado(a)/Desquitado(a)/Separado(a)').astype(str)\n",
    "df_enem['TP_ESTADO_CIVIL'] = df_enem['TP_ESTADO_CIVIL'].replace('4', 'Viúvo(a)').astype(str)"
   ]
  },
  {
   "cell_type": "code",
   "execution_count": 8,
   "metadata": {},
   "outputs": [],
   "source": [
    "df_enem['TP_FAIXA_ETARIA'] = df_enem['TP_FAIXA_ETARIA'].replace(1, 'Menor de 17 anos').astype(str)\n",
    "df_enem['TP_FAIXA_ETARIA'] = df_enem['TP_FAIXA_ETARIA'].replace('2', '17 anos').astype(str)\n",
    "df_enem['TP_FAIXA_ETARIA'] = df_enem['TP_FAIXA_ETARIA'].replace('3', '18 anos').astype(str)\n",
    "df_enem['TP_FAIXA_ETARIA'] = df_enem['TP_FAIXA_ETARIA'].replace('4', '19 anos').astype(str)\n",
    "df_enem['TP_FAIXA_ETARIA'] = df_enem['TP_FAIXA_ETARIA'].replace('5', '20 anos').astype(str)\n",
    "df_enem['TP_FAIXA_ETARIA'] = df_enem['TP_FAIXA_ETARIA'].replace('6', '21 anos').astype(str)\n",
    "df_enem['TP_FAIXA_ETARIA'] = df_enem['TP_FAIXA_ETARIA'].replace('7', '22 anos').astype(str)\n",
    "df_enem['TP_FAIXA_ETARIA'] = df_enem['TP_FAIXA_ETARIA'].replace('8', '23 anos').astype(str)\n",
    "df_enem['TP_FAIXA_ETARIA'] = df_enem['TP_FAIXA_ETARIA'].replace('9', '24 anos').astype(str)\n",
    "df_enem['TP_FAIXA_ETARIA'] = df_enem['TP_FAIXA_ETARIA'].replace('10', '25 anos').astype(str)\n",
    "df_enem['TP_FAIXA_ETARIA'] = df_enem['TP_FAIXA_ETARIA'].replace('11', 'Entre 26 e 30 anos').astype(str)\n",
    "df_enem['TP_FAIXA_ETARIA'] = df_enem['TP_FAIXA_ETARIA'].replace('12', 'Entre 31 e 35 anos').astype(str)\n",
    "df_enem['TP_FAIXA_ETARIA'] = df_enem['TP_FAIXA_ETARIA'].replace('13', 'Entre 36 e 40 anos').astype(str)\n",
    "df_enem['TP_FAIXA_ETARIA'] = df_enem['TP_FAIXA_ETARIA'].replace('14', 'Entre 41 e 45 anos').astype(str)\n",
    "df_enem['TP_FAIXA_ETARIA'] = df_enem['TP_FAIXA_ETARIA'].replace('15', 'Entre 46 e 50 anos').astype(str)\n",
    "df_enem['TP_FAIXA_ETARIA'] = df_enem['TP_FAIXA_ETARIA'].replace('16', 'Entre 51 e 55 anos').astype(str)\n",
    "df_enem['TP_FAIXA_ETARIA'] = df_enem['TP_FAIXA_ETARIA'].replace('17', 'Entre 56 e 60 anos').astype(str)\n",
    "df_enem['TP_FAIXA_ETARIA'] = df_enem['TP_FAIXA_ETARIA'].replace('18', 'Entre 61 e 65 anos').astype(str)\n",
    "df_enem['TP_FAIXA_ETARIA'] = df_enem['TP_FAIXA_ETARIA'].replace('19', 'Entre 66 e 70 anos').astype(str)\n",
    "df_enem['TP_FAIXA_ETARIA'] = df_enem['TP_FAIXA_ETARIA'].replace('20', 'Maior de 70 anos').astype(str)"
   ]
  },
  {
   "cell_type": "code",
   "execution_count": 9,
   "metadata": {},
   "outputs": [],
   "source": [
    "df_enem['TP_ST_CONCLUSAO'] = df_enem['TP_ST_CONCLUSAO'].replace(1, 'Concluído').astype(str)\n",
    "df_enem['TP_ST_CONCLUSAO'] = df_enem['TP_ST_CONCLUSAO'].replace('2', 'Concluindo 2020').astype(str)\n",
    "df_enem['TP_ST_CONCLUSAO'] = df_enem['TP_ST_CONCLUSAO'].replace('3', 'Conclusão após 2020').astype(str)\n",
    "df_enem['TP_ST_CONCLUSAO'] = df_enem['TP_ST_CONCLUSAO'].replace('4', 'S/Conclusão S/Curso').astype(str)"
   ]
  },
  {
   "cell_type": "code",
   "execution_count": 10,
   "metadata": {},
   "outputs": [],
   "source": [
    "df_enem['TP_ESCOLA'] = df_enem['TP_ESCOLA'].replace(1, 'Sem Informação').astype(str)\n",
    "df_enem['TP_ESCOLA'] = df_enem['TP_ESCOLA'].replace('2', 'Pública').astype(str)\n",
    "df_enem['TP_ESCOLA'] = df_enem['TP_ESCOLA'].replace('3', 'Privada').astype(str)\n",
    "df_enem['TP_ESCOLA'] = df_enem['TP_ESCOLA'].replace('4', 'Exterior').astype(str)"
   ]
  },
  {
   "cell_type": "code",
   "execution_count": 11,
   "metadata": {},
   "outputs": [],
   "source": [
    "df_enem['TP_LOCALIZACAO_ESC'] = df_enem['TP_LOCALIZACAO_ESC'].replace(1, 'Urbana').astype(str)\n",
    "df_enem['TP_LOCALIZACAO_ESC'] = df_enem['TP_LOCALIZACAO_ESC'].replace('2', 'Rural').astype(str)"
   ]
  },
  {
   "cell_type": "code",
   "execution_count": 12,
   "metadata": {},
   "outputs": [],
   "source": [
    "df_enem['TP_NACIONALIDADE'] = df_enem['TP_NACIONALIDADE'].replace(0, 'Não Informado').astype(str)\n",
    "df_enem['TP_NACIONALIDADE'] = df_enem['TP_NACIONALIDADE'].replace('1', 'Brasileiro(a)').astype(str)\n",
    "df_enem['TP_NACIONALIDADE'] = df_enem['TP_NACIONALIDADE'].replace('2', 'Brasileiro(a) Naturalizado(a)').astype(str)\n",
    "df_enem['TP_NACIONALIDADE'] = df_enem['TP_NACIONALIDADE'].replace('3', 'Estrangeiro(a)').astype(str)\n",
    "df_enem['TP_NACIONALIDADE'] = df_enem['TP_NACIONALIDADE'].replace('4', 'Brasileiro(a) Nato(a), nascido(a) no exterior').astype(str)"
   ]
  },
  {
   "cell_type": "code",
   "execution_count": 13,
   "metadata": {},
   "outputs": [],
   "source": [
    "#substituição de número por situação da redação\n",
    "df_enem['TP_STATUS_REDACAO'] = df_enem['TP_STATUS_REDACAO'].replace(1, 'Sem problemas').astype(str)\n",
    "df_enem['TP_STATUS_REDACAO'] = df_enem['TP_STATUS_REDACAO'].replace(2, 'Anulada').astype(str)\n",
    "df_enem['TP_STATUS_REDACAO'] = df_enem['TP_STATUS_REDACAO'].replace(3, 'Cópia Texto Motivador').astype(str)\n",
    "df_enem['TP_STATUS_REDACAO'] = df_enem['TP_STATUS_REDACAO'].replace(4, 'Em Branco').astype(str)\n",
    "df_enem['TP_STATUS_REDACAO'] = df_enem['TP_STATUS_REDACAO'].replace(6, 'Fuga ao tema').astype(str)\n",
    "df_enem['TP_STATUS_REDACAO'] = df_enem['TP_STATUS_REDACAO'].replace(7, 'Não atendimento ao tipo textual').astype(str)\n",
    "df_enem['TP_STATUS_REDACAO'] = df_enem['TP_STATUS_REDACAO'].replace(8, 'Texto insuficiente').astype(str)\n",
    "df_enem['TP_STATUS_REDACAO'] = df_enem['TP_STATUS_REDACAO'].replace(9, 'Parte desconectada').astype(str)\n",
    "df_enem['TP_STATUS_REDACAO'] = df_enem['TP_STATUS_REDACAO'].fillna('N/A').astype(str)"
   ]
  },
  {
   "cell_type": "code",
   "execution_count": 14,
   "metadata": {},
   "outputs": [],
   "source": [
    "#Substituição de número da lingua estrangeira escolhida\n",
    "df_enem['TP_LINGUA'] = df_enem['TP_LINGUA'].replace(0, 'Inglês').astype(str)\n",
    "df_enem['TP_LINGUA'] = df_enem['TP_LINGUA'].replace('1', 'Espanhol').astype(str)"
   ]
  },
  {
   "cell_type": "code",
   "execution_count": 6,
   "metadata": {},
   "outputs": [],
   "source": [
    "#renomear colunas\n",
    "df_enem = df_enem.rename(columns={'TP_SEXO': 'SEXO'})\n",
    "df_enem = df_enem.rename(columns={'TP_FAIXA': 'FAIXA_ETARIA'})\n",
    "df_enem = df_enem.rename(columns={'TP_COR_RACA': 'ETNIA'})\n",
    "df_enem = df_enem.rename(columns={'TP_ST_CONCLUSAO': 'ST_CONCLUSAO'})\n",
    "df_enem = df_enem.rename(columns={'TP_ESCOLA': 'TIPO_ESCOLA'})\n",
    "df_enem = df_enem.rename(columns={'IN_TREINEIRO': 'TREINEIRO'})\n",
    "df_enem = df_enem.rename(columns={'CO_MUNICIPIO_PROVA': 'COD_MUNICIPIO'})\n",
    "df_enem = df_enem.rename(columns={'NO_MUNICIPIO_PROVA': 'NOME_MUNICIPIO'})\n",
    "df_enem = df_enem.rename(columns={'CO_UF_PROVA': 'COD_UF'})\n",
    "df_enem = df_enem.rename(columns={'SG_UF_PROVA': 'UF'})\n",
    "df_enem = df_enem.rename(columns={'TP_PRESENCA_CN': 'PRESENCA_CN'})\n",
    "df_enem = df_enem.rename(columns={'TP_PRESENCA_CH': 'PRESENCA_CH'})\n",
    "df_enem = df_enem.rename(columns={'TP_PRESENCA_LC': 'PRESENCA_LC'})\n",
    "df_enem = df_enem.rename(columns={'TP_PRESENCA_MT': 'PRESENCA_MT'})\n",
    "df_enem = df_enem.rename(columns={'CO_PROVA_CN': 'COD_PCN'})\n",
    "df_enem = df_enem.rename(columns={'CO_PROVA_CH': 'COD_PCH'})\n",
    "df_enem = df_enem.rename(columns={'CO_PROVA_LC': 'COD_PLC'})\n",
    "df_enem = df_enem.rename(columns={'CO_PROVA_MT': 'COD_PMT'})\n",
    "df_enem = df_enem.rename(columns={'NU_NOTA_CN': 'NOTA_PCN'})\n",
    "df_enem = df_enem.rename(columns={'NU_NOTA_CH': 'NOTA_PCH'})\n",
    "df_enem = df_enem.rename(columns={'NU_NOTA_LC': 'NOTA_PLC'})\n",
    "df_enem = df_enem.rename(columns={'NU_NOTA_MT': 'NOTA_PMT'})\n",
    "df_enem = df_enem.rename(columns={'TP_LINGUA': 'LINGUA_ESCOLHIDA'})\n",
    "df_enem = df_enem.rename(columns={'TP_ESTADO_CIVIL': 'ESTADO_CIVIL'})\n",
    "df_enem = df_enem.rename(columns={'TP_NACIONALIDADE': 'NACIONALIDADE'})\n",
    "df_enem = df_enem.rename(columns={'TP_ANO_CONCLUIU': 'ANO_CONCLUSAO'})\n",
    "df_enem = df_enem.rename(columns={'TP_LOCALIZACAO_ESC': 'LOCALIZACAO_ESC'})\n",
    "df_enem = df_enem.rename(columns={'TP_SIT_FUNC_ESC': 'FUNCIONAMENTO_ESC'})\n",
    "df_enem = df_enem.rename(columns={'NU_NOTA_COMP1': 'NOTA_COMP1'})\n",
    "df_enem = df_enem.rename(columns={'NU_NOTA_COMP2': 'NOTA_COMP2'})\n",
    "df_enem = df_enem.rename(columns={'NU_NOTA_COMP3': 'NOTA_COMP3'})\n",
    "df_enem = df_enem.rename(columns={'NU_NOTA_COMP4': 'NOTA_COMP4'})\n",
    "df_enem = df_enem.rename(columns={'NU_NOTA_COMP5': 'NOTA_COMP5'})\n",
    "df_enem = df_enem.rename(columns={'NU_NOTA_REDACAO': 'NOTA_REDACAO'})"
   ]
  },
  {
   "cell_type": "code",
   "execution_count": 7,
   "metadata": {},
   "outputs": [
    {
     "name": "stdout",
     "output_type": "stream",
     "text": [
      "Valores numéricos na coluna PRESENCA_CN:\n"
     ]
    }
   ],
   "source": [
    "# Filtra os valores numéricos na coluna\n",
    "column_name = \"PRESENCA_CN\"\n",
    "numeric_values = df_enem[df_enem[column_name].str.match(r'^\\d+$')][column_name].unique()\n",
    "\n",
    "# Imprime os valores numéricos da coluna\n",
    "print(f\"Valores numéricos na coluna {column_name}:\")\n",
    "for value in numeric_values:\n",
    "    print(value)"
   ]
  },
  {
   "cell_type": "code",
   "execution_count": 16,
   "metadata": {},
   "outputs": [],
   "source": [
    "df_enem['TREINEIRO'] = df_enem['TREINEIRO'].replace(0, 'NÃO').astype(str)\n",
    "df_enem['TREINEIRO'] = df_enem['TREINEIRO'].replace(1, 'SIM').astype(str)"
   ]
  },
  {
   "cell_type": "code",
   "execution_count": 17,
   "metadata": {},
   "outputs": [],
   "source": [
    "#criação de arquivo csv com dados tratados\n",
    "df_enem.to_csv('C:/Users/peixe/Desktop/Desafio Técnico Mesha/Base Enem Tratada2.csv', index=False, sep=';', encoding='UTF-8')"
   ]
  },
  {
   "cell_type": "code",
   "execution_count": 18,
   "metadata": {},
   "outputs": [],
   "source": [
    "#print(\"Nome das colunas:\")\n",
    "#for column in df_enem.columns:\n",
    "   #print(column)\n"
   ]
  }
 ],
 "metadata": {
  "kernelspec": {
   "display_name": "pamb",
   "language": "python",
   "name": "python3"
  },
  "language_info": {
   "codemirror_mode": {
    "name": "ipython",
    "version": 3
   },
   "file_extension": ".py",
   "mimetype": "text/x-python",
   "name": "python",
   "nbconvert_exporter": "python",
   "pygments_lexer": "ipython3",
   "version": "3.11.4"
  }
 },
 "nbformat": 4,
 "nbformat_minor": 2
}
