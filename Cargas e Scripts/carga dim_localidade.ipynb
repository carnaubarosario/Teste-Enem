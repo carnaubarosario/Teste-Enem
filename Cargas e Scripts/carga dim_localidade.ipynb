{
 "cells": [
  {
   "cell_type": "code",
   "execution_count": 3,
   "metadata": {},
   "outputs": [],
   "source": [
    "import pandas as pd\n",
    "import psycopg2"
   ]
  },
  {
   "cell_type": "code",
   "execution_count": 4,
   "metadata": {},
   "outputs": [],
   "source": [
    "# Estabelece a conexão com o banco de dados\n",
    "conn = psycopg2.connect(\n",
    "        dbname='Enem_2020',\n",
    "        user='postgres',\n",
    "        password=1234,\n",
    "        host='localhost',\n",
    "        port=5432\n",
    "    )\n",
    "    \n",
    "cursor = conn.cursor()"
   ]
  },
  {
   "cell_type": "code",
   "execution_count": 5,
   "metadata": {},
   "outputs": [
    {
     "name": "stderr",
     "output_type": "stream",
     "text": [
      "C:\\Users\\peixe\\AppData\\Local\\Temp\\ipykernel_20312\\2060770922.py:2: DtypeWarning: Columns (55) have mixed types. Specify dtype option on import or set low_memory=False.\n",
      "  df_enem = pd.read_csv(r\"C:/Users/peixe/Desktop/Desafio Técnico Mesha/Base Enem Tratada2.csv\", sep=';', encoding='UTF-8')\n"
     ]
    }
   ],
   "source": [
    "# Leitura do CSV para DataFrame\n",
    "df_enem = pd.read_csv(r\"C:/Users/peixe/Desktop/Desafio Técnico Mesha/Base Enem Tratada2.csv\", sep=';', encoding='UTF-8')"
   ]
  },
  {
   "cell_type": "code",
   "execution_count": 6,
   "metadata": {},
   "outputs": [],
   "source": [
    " # Itera sobre as linhas do DataFrame e executa o comando de inserção\n",
    "for index, row in df_enem.iterrows():\n",
    "        cursor.execute(\n",
    "            \"\"\"\n",
    "            INSERT INTO dim_localidade (uf, nome_municipio)\n",
    "            VALUES (%s, %s)\n",
    "            \"\"\",\n",
    "            (\n",
    "                row['UF'],\n",
    "                row['NOME_MUNICIPIO']\n",
    "            )\n",
    "        )\n",
    "\n",
    "# Confirma a transação\n",
    "conn.commit()\n",
    "    \n",
    "# Fecha o cursor e a conexão\n",
    "cursor.close()\n",
    "conn.close()"
   ]
  }
 ],
 "metadata": {
  "kernelspec": {
   "display_name": "Python 3",
   "language": "python",
   "name": "python3"
  },
  "language_info": {
   "codemirror_mode": {
    "name": "ipython",
    "version": 3
   },
   "file_extension": ".py",
   "mimetype": "text/x-python",
   "name": "python",
   "nbconvert_exporter": "python",
   "pygments_lexer": "ipython3",
   "version": "3.11.4"
  }
 },
 "nbformat": 4,
 "nbformat_minor": 2
}
