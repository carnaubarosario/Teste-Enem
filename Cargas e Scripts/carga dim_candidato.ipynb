{
 "cells": [
  {
   "cell_type": "code",
   "execution_count": 1,
   "metadata": {},
   "outputs": [],
   "source": [
    "import pandas as pd\n",
    "import psycopg2"
   ]
  },
  {
   "cell_type": "code",
   "execution_count": 2,
   "metadata": {},
   "outputs": [],
   "source": [
    "# Estabelece a conexão com o banco de dados\n",
    "conn = psycopg2.connect(\n",
    "        dbname='Enem_2020',\n",
    "        user='postgres',\n",
    "        password=1234,\n",
    "        host='localhost',\n",
    "        port=5432\n",
    "    )\n",
    "    \n",
    "cursor = conn.cursor()"
   ]
  },
  {
   "cell_type": "code",
   "execution_count": 3,
   "metadata": {},
   "outputs": [
    {
     "name": "stderr",
     "output_type": "stream",
     "text": [
      "C:\\Users\\peixe\\AppData\\Local\\Temp\\ipykernel_7520\\2060770922.py:2: DtypeWarning: Columns (55) have mixed types. Specify dtype option on import or set low_memory=False.\n",
      "  df_enem = pd.read_csv(r\"C:/Users/peixe/Desktop/Desafio Técnico Mesha/Base Enem Tratada2.csv\", sep=';', encoding='UTF-8')\n"
     ]
    }
   ],
   "source": [
    "# Leitura do CSV para DataFrame\n",
    "df_enem = pd.read_csv(r\"C:/Users/peixe/Desktop/Desafio Técnico Mesha/Base Enem Tratada2.csv\", sep=';', encoding='UTF-8')"
   ]
  },
  {
   "cell_type": "code",
   "execution_count": 4,
   "metadata": {},
   "outputs": [],
   "source": [
    " # Itera sobre as linhas do DataFrame e executa o comando de inserção\n",
    "for index, row in df_enem.iterrows():\n",
    "        cursor.execute(\n",
    "            \"\"\"\n",
    "            INSERT INTO dim_candidato (nu_inscricao, faixa_etaria, sexo, etnia, estado_civil, nacionalidade, st_conclusao, treineiro)\n",
    "            VALUES (%s, %s, %s, %s, %s, %s, %s, %s)\n",
    "            \"\"\",\n",
    "            (\n",
    "                row['NU_INSCRICAO'],\n",
    "                row['TP_FAIXA_ETARIA'],\n",
    "                row['SEXO'],\n",
    "                row['ETNIA'],\n",
    "                row['ESTADO_CIVIL'],\n",
    "                row['NACIONALIDADE'],\n",
    "                row['ST_CONCLUSAO'],\n",
    "                row['TREINEIRO']\n",
    "            )\n",
    "        )\n",
    "\n",
    "# Confirma a transação\n",
    "conn.commit()\n",
    "# Fecha o cursor e a conexão\n",
    "cursor.close()\n",
    "conn.close()"
   ]
  }
 ],
 "metadata": {
  "kernelspec": {
   "display_name": "pamb",
   "language": "python",
   "name": "python3"
  },
  "language_info": {
   "codemirror_mode": {
    "name": "ipython",
    "version": 3
   },
   "file_extension": ".py",
   "mimetype": "text/x-python",
   "name": "python",
   "nbconvert_exporter": "python",
   "pygments_lexer": "ipython3",
   "version": "3.11.4"
  }
 },
 "nbformat": 4,
 "nbformat_minor": 2
}
